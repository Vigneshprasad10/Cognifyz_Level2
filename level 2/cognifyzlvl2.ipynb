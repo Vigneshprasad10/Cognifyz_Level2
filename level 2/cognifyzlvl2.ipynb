{
 "cells": [
  {
   "cell_type": "markdown",
   "id": "e2f1b56e",
   "metadata": {},
   "source": [
    "# LEVEL - 2 TASK - 1\n",
    " __Task: Table Booking and Online Delivery__"
   ]
  },
  {
   "cell_type": "code",
   "execution_count": 1,
   "id": "d6347ed8",
   "metadata": {},
   "outputs": [],
   "source": [
    "import pandas as pd\n",
    "import matplotlib.pyplot as plt\n",
    "import seaborn as sns"
   ]
  },
  {
   "cell_type": "code",
   "execution_count": 2,
   "id": "43b56c08",
   "metadata": {},
   "outputs": [],
   "source": [
    "# Loaing the dataset\n",
    "\n",
    "data = pd.read_csv(\"cognify.csv\")"
   ]
  },
  {
   "cell_type": "code",
   "execution_count": 3,
   "id": "1cac71b3",
   "metadata": {},
   "outputs": [
    {
     "name": "stdout",
     "output_type": "stream",
     "text": [
      "Number of rows and columns:\n",
      "(9551, 21)\n"
     ]
    }
   ],
   "source": [
    "# Exploring the dataset\n",
    "\n",
    "print(\"Number of rows and columns:\")\n",
    "print(data.shape)"
   ]
  },
  {
   "cell_type": "code",
   "execution_count": 4,
   "id": "7ab3dfe7",
   "metadata": {},
   "outputs": [
    {
     "name": "stdout",
     "output_type": "stream",
     "text": [
      "\n",
      "Missing values in each column:\n",
      "Restaurant ID           0\n",
      "Restaurant Name         0\n",
      "Country Code            0\n",
      "City                    0\n",
      "Address                 0\n",
      "Locality                0\n",
      "Locality Verbose        0\n",
      "Longitude               0\n",
      "Latitude                0\n",
      "Cuisines                9\n",
      "Average Cost for two    0\n",
      "Currency                0\n",
      "Has Table booking       0\n",
      "Has Online delivery     0\n",
      "Is delivering now       0\n",
      "Switch to order menu    0\n",
      "Price range             0\n",
      "Aggregate rating        0\n",
      "Rating color            0\n",
      "Rating text             0\n",
      "Votes                   0\n",
      "dtype: int64\n"
     ]
    }
   ],
   "source": [
    "# Checking for missing values\n",
    "\n",
    "print(\"\\nMissing values in each column:\")\n",
    "print(data.isnull().sum())"
   ]
  },
  {
   "cell_type": "code",
   "execution_count": 7,
   "id": "949d28c6",
   "metadata": {},
   "outputs": [
    {
     "name": "stdout",
     "output_type": "stream",
     "text": [
      "Index(['Restaurant ID', 'Restaurant Name', 'Country Code', 'City', 'Address',\n",
      "       'Locality', 'Locality Verbose', 'Longitude', 'Latitude', 'Cuisines',\n",
      "       'Average Cost for two', 'Currency', 'Has Table booking',\n",
      "       'Has Online delivery', 'Is delivering now', 'Switch to order menu',\n",
      "       'Price range', 'Aggregate rating', 'Rating color', 'Rating text',\n",
      "       'Votes'],\n",
      "      dtype='object')\n"
     ]
    }
   ],
   "source": [
    "print(data.columns)"
   ]
  },
  {
   "cell_type": "code",
   "execution_count": 10,
   "id": "5c2cf5f6",
   "metadata": {},
   "outputs": [
    {
     "name": "stdout",
     "output_type": "stream",
     "text": [
      "Percentage of restaurants offering table booking: 12.124384881164275\n",
      "Percentage of restaurants offering online delivery: 25.662234321013504\n"
     ]
    }
   ],
   "source": [
    "#Determining the percentage of restaurants that offer table booking and online delivery\n",
    "\n",
    "data['Has Table booking'] = data['Has Table booking'].map({'Yes': 1, 'No': 0})\n",
    "data['Has Online delivery'] = data['Has Online delivery'].map({'Yes': 1, 'No': 0})\n",
    "\n",
    "total_restaurants = len(data)\n",
    "table_booking_percentage = (data['Has Table booking'].sum() / total_restaurants) * 100\n",
    "online_delivery_percentage = (data['Has Online delivery'].sum() / total_restaurants) * 100\n",
    "\n",
    "print(\"Percentage of restaurants offering table booking:\", table_booking_percentage)\n",
    "print(\"Percentage of restaurants offering online delivery:\", online_delivery_percentage)\n"
   ]
  },
  {
   "cell_type": "code",
   "execution_count": 12,
   "id": "9b9a6e74",
   "metadata": {},
   "outputs": [
    {
     "name": "stdout",
     "output_type": "stream",
     "text": [
      "Average rating of restaurants with table booking: nan\n",
      "Average rating of restaurants without table booking: nan\n"
     ]
    }
   ],
   "source": [
    "#Comparing the average ratings of restaurants with and without table booking.\n",
    "\n",
    "avg_rating_with_table_booking = data[data['Has Table booking'] == 'Yes']['Aggregate rating'].mean()\n",
    "avg_rating_without_table_booking = data[data['Has Table booking'] == 'No']['Aggregate rating'].mean()\n",
    "\n",
    "print(\"Average rating of restaurants with table booking:\", avg_rating_with_table_booking)\n",
    "print(\"Average rating of restaurants without table booking:\", avg_rating_without_table_booking)"
   ]
  },
  {
   "cell_type": "code",
   "execution_count": 17,
   "id": "131a6a49",
   "metadata": {},
   "outputs": [
    {
     "name": "stdout",
     "output_type": "stream",
     "text": [
      "Percentage of restaurants with online delivery in price range 3 : 29.19034090909091\n",
      "Percentage of restaurants with online delivery in price range 4 : 9.044368600682594\n",
      "Percentage of restaurants with online delivery in price range 2 : 41.310632830067455\n",
      "Percentage of restaurants with online delivery in price range 1 : 15.774077407740775\n"
     ]
    }
   ],
   "source": [
    "#Analyzing the availability of online delivery among restaurants with different price ranges.\n",
    "\n",
    "price_ranges = data['Price range'].unique()\n",
    "for price_range in price_ranges:\n",
    "    online_delivery_percentage = (data[data['Price range'] == price_range]['Has Online delivery'].sum() / len(data[data['Price range'] == price_range])) * 100\n",
    "    print(\"Percentage of restaurants with online delivery in price range\", price_range, \":\", online_delivery_percentage)"
   ]
  },
  {
   "cell_type": "markdown",
   "id": "f62f75f4",
   "metadata": {},
   "source": [
    "# LEVEL - 2 TASK - 2\n",
    "__Task: Price Range Analysis__"
   ]
  },
  {
   "cell_type": "code",
   "execution_count": 14,
   "id": "30b69eba",
   "metadata": {},
   "outputs": [],
   "source": [
    "#Determining the most common price range\n",
    "\n",
    "most_common_price_range = data['Price range'].mode()[0]"
   ]
  },
  {
   "cell_type": "code",
   "execution_count": 15,
   "id": "1f575ba4",
   "metadata": {},
   "outputs": [],
   "source": [
    "#Calculating the average rating for each price range\n",
    "\n",
    "average_rating_by_price_range = data.groupby('Price range')['Aggregate rating'].mean()"
   ]
  },
  {
   "cell_type": "code",
   "execution_count": 16,
   "id": "091f03e0",
   "metadata": {},
   "outputs": [],
   "source": [
    "#Identifying the color that represents the highest average rating among different price ranges\n",
    "\n",
    "highest_avg_rating_price_range = average_rating_by_price_range.idxmax()\n",
    "color_for_highest_avg_rating = data[data['Price range'] == highest_avg_rating_price_range]['Rating color'].iloc[0]"
   ]
  },
  {
   "cell_type": "code",
   "execution_count": 18,
   "id": "c42674ea",
   "metadata": {},
   "outputs": [],
   "source": [
    "# Calculating the number of restaurants in each price range\n",
    "\n",
    "restaurant_count_by_price_range = data['Price range'].value_counts()"
   ]
  },
  {
   "cell_type": "code",
   "execution_count": 19,
   "id": "7eb1fd46",
   "metadata": {},
   "outputs": [],
   "source": [
    "# Finding the price range with the highest number of restaurants\n",
    "\n",
    "most_restaurants_price_range = restaurant_count_by_price_range.idxmax()"
   ]
  },
  {
   "cell_type": "code",
   "execution_count": 20,
   "id": "94d0f984",
   "metadata": {},
   "outputs": [],
   "source": [
    "# Calculating the median rating for each price range\n",
    "\n",
    "median_rating_by_price_range = data.groupby('Price range')['Aggregate rating'].median()"
   ]
  },
  {
   "cell_type": "code",
   "execution_count": 21,
   "id": "b3ef7211",
   "metadata": {},
   "outputs": [
    {
     "name": "stdout",
     "output_type": "stream",
     "text": [
      "Most common price range among all restaurants: 1\n",
      "\n",
      "Average rating for each price range:\n",
      "Price range\n",
      "1    1.999887\n",
      "2    2.941054\n",
      "3    3.683381\n",
      "4    3.817918\n",
      "Name: Aggregate rating, dtype: float64\n",
      "\n",
      "Median rating for each price range:\n",
      "Price range\n",
      "1    2.9\n",
      "2    3.3\n",
      "3    3.8\n",
      "4    3.9\n",
      "Name: Aggregate rating, dtype: float64\n",
      "\n",
      "Color representing the highest average rating among different price ranges: Green\n",
      "\n",
      "Number of restaurants in each price range:\n",
      "Price range\n",
      "1    4444\n",
      "2    3113\n",
      "3    1408\n",
      "4     586\n",
      "Name: count, dtype: int64\n",
      "\n",
      "Price range with the highest number of restaurants: 1\n"
     ]
    }
   ],
   "source": [
    "# Displaying results\n",
    "\n",
    "print(\"Most common price range among all restaurants:\", most_common_price_range)\n",
    "print(\"\\nAverage rating for each price range:\")\n",
    "print(average_rating_by_price_range)\n",
    "print(\"\\nMedian rating for each price range:\")\n",
    "print(median_rating_by_price_range)\n",
    "print(\"\\nColor representing the highest average rating among different price ranges:\", color_for_highest_avg_rating)\n",
    "\n",
    "print(\"\\nNumber of restaurants in each price range:\")\n",
    "print(restaurant_count_by_price_range)\n",
    "print(\"\\nPrice range with the highest number of restaurants:\", most_restaurants_price_range)"
   ]
  },
  {
   "cell_type": "markdown",
   "id": "3505394b",
   "metadata": {},
   "source": [
    "# LEVEL - 2 TASK - 3\n",
    "__Task: Feature Engineering__"
   ]
  },
  {
   "cell_type": "code",
   "execution_count": 22,
   "id": "bcc657d1",
   "metadata": {},
   "outputs": [],
   "source": [
    "#Extracting Additional Features\n",
    "\n",
    "data['Restaurant Name Length'] = data['Restaurant Name'].apply(len)\n",
    "data['Address Length'] = data['Address'].apply(len)"
   ]
  },
  {
   "cell_type": "code",
   "execution_count": 23,
   "id": "801c3bf7",
   "metadata": {},
   "outputs": [],
   "source": [
    "#Creating New Features\n",
    "\n",
    "data['Has Table Booking Binary'] = data['Has Table booking'].map({'Yes': 1, 'No': 0})\n",
    "data['Has Online Delivery Binary'] = data['Has Online delivery'].map({'Yes': 1, 'No': 0})"
   ]
  },
  {
   "cell_type": "code",
   "execution_count": 24,
   "id": "ef9e278c",
   "metadata": {},
   "outputs": [],
   "source": [
    "#Encoding Categorical Variables\n",
    "\n",
    "data = pd.get_dummies(data, columns=['City', 'Cuisines'])"
   ]
  },
  {
   "cell_type": "code",
   "execution_count": 25,
   "id": "a06b2db0",
   "metadata": {},
   "outputs": [],
   "source": [
    "#Normalizing Numerical Features\n",
    "\n",
    "from sklearn.preprocessing import MinMaxScaler\n",
    "scaler = MinMaxScaler()\n",
    "data[['Average Cost for two', 'Votes']] = scaler.fit_transform(data[['Average Cost for two', 'Votes']])"
   ]
  },
  {
   "cell_type": "code",
   "execution_count": 26,
   "id": "095e3bf7",
   "metadata": {},
   "outputs": [],
   "source": [
    "#Deriving Statistical Features\n",
    "# Calculating statistical features like mean, median, and standard deviation for numerical columns\n",
    "\n",
    "numerical_columns = ['Average Cost for two', 'Votes']\n",
    "data['Mean Cost'] = data[numerical_columns].mean(axis=1)\n",
    "data['Median Votes'] = data[numerical_columns].median(axis=1)\n",
    "data['Std Dev Cost'] = data[numerical_columns].std(axis=1)"
   ]
  },
  {
   "cell_type": "code",
   "execution_count": 27,
   "id": "3438f5ce",
   "metadata": {},
   "outputs": [
    {
     "name": "stdout",
     "output_type": "stream",
     "text": [
      "   Restaurant ID         Restaurant Name  Country Code  \\\n",
      "0        6317637        Le Petit Souffle           162   \n",
      "1        6304287        Izakaya Kikufuji           162   \n",
      "2        6300002  Heat - Edsa Shangri-La           162   \n",
      "3        6318506                    Ooma           162   \n",
      "4        6314302             Sambo Kojin           162   \n",
      "\n",
      "                                             Address  \\\n",
      "0  Third Floor, Century City Mall, Kalayaan Avenu...   \n",
      "1  Little Tokyo, 2277 Chino Roces Avenue, Legaspi...   \n",
      "2  Edsa Shangri-La, 1 Garden Way, Ortigas, Mandal...   \n",
      "3  Third Floor, Mega Fashion Hall, SM Megamall, O...   \n",
      "4  Third Floor, Mega Atrium, SM Megamall, Ortigas...   \n",
      "\n",
      "                                     Locality  \\\n",
      "0   Century City Mall, Poblacion, Makati City   \n",
      "1  Little Tokyo, Legaspi Village, Makati City   \n",
      "2  Edsa Shangri-La, Ortigas, Mandaluyong City   \n",
      "3      SM Megamall, Ortigas, Mandaluyong City   \n",
      "4      SM Megamall, Ortigas, Mandaluyong City   \n",
      "\n",
      "                                    Locality Verbose   Longitude   Latitude  \\\n",
      "0  Century City Mall, Poblacion, Makati City, Mak...  121.027535  14.565443   \n",
      "1  Little Tokyo, Legaspi Village, Makati City, Ma...  121.014101  14.553708   \n",
      "2  Edsa Shangri-La, Ortigas, Mandaluyong City, Ma...  121.056831  14.581404   \n",
      "3  SM Megamall, Ortigas, Mandaluyong City, Mandal...  121.056475  14.585318   \n",
      "4  SM Megamall, Ortigas, Mandaluyong City, Mandal...  121.057508  14.584450   \n",
      "\n",
      "   Average Cost for two          Currency  ...  Cuisines_Vietnamese  \\\n",
      "0              0.001375  Botswana Pula(P)  ...                False   \n",
      "1              0.001500  Botswana Pula(P)  ...                False   \n",
      "2              0.005000  Botswana Pula(P)  ...                False   \n",
      "3              0.001875  Botswana Pula(P)  ...                False   \n",
      "4              0.001875  Botswana Pula(P)  ...                False   \n",
      "\n",
      "   Cuisines_Vietnamese, Fish and Chips Cuisines_Western, Asian, Cafe  \\\n",
      "0                                False                         False   \n",
      "1                                False                         False   \n",
      "2                                False                         False   \n",
      "3                                False                         False   \n",
      "4                                False                         False   \n",
      "\n",
      "  Cuisines_Western, Fusion, Fast Food  Cuisines_World Cuisine  \\\n",
      "0                               False                   False   \n",
      "1                               False                   False   \n",
      "2                               False                   False   \n",
      "3                               False                   False   \n",
      "4                               False                   False   \n",
      "\n",
      "   Cuisines_World Cuisine, Mexican, Italian  \\\n",
      "0                                     False   \n",
      "1                                     False   \n",
      "2                                     False   \n",
      "3                                     False   \n",
      "4                                     False   \n",
      "\n",
      "  Cuisines_World Cuisine, Patisserie, Cafe Mean Cost  Median Votes  \\\n",
      "0                                    False  0.015046      0.015046   \n",
      "1                                    False  0.027776      0.027776   \n",
      "2                                    False  0.014847      0.014847   \n",
      "3                                    False  0.017629      0.017629   \n",
      "4                                    False  0.011409      0.011409   \n",
      "\n",
      "   Std Dev Cost  \n",
      "0      0.019334  \n",
      "1      0.037160  \n",
      "2      0.013925  \n",
      "3      0.022279  \n",
      "4      0.013484  \n",
      "\n",
      "[5 rows x 1992 columns]\n"
     ]
    }
   ],
   "source": [
    "# Displaying the updated dataset\n",
    "\n",
    "print(data.head())"
   ]
  },
  {
   "cell_type": "code",
   "execution_count": null,
   "id": "d214d9c8",
   "metadata": {},
   "outputs": [],
   "source": [
    "*"
   ]
  }
 ],
 "metadata": {
  "kernelspec": {
   "display_name": "Python 3 (ipykernel)",
   "language": "python",
   "name": "python3"
  },
  "language_info": {
   "codemirror_mode": {
    "name": "ipython",
    "version": 3
   },
   "file_extension": ".py",
   "mimetype": "text/x-python",
   "name": "python",
   "nbconvert_exporter": "python",
   "pygments_lexer": "ipython3",
   "version": "3.11.7"
  }
 },
 "nbformat": 4,
 "nbformat_minor": 5
}
